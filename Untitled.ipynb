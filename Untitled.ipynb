{
 "cells": [
  {
   "cell_type": "code",
   "execution_count": 1,
   "metadata": {},
   "outputs": [],
   "source": [
    "import numpy as np\n",
    "import torch"
   ]
  },
  {
   "cell_type": "code",
   "execution_count": 2,
   "metadata": {},
   "outputs": [],
   "source": [
    "pretrain_model_path = './Pretraining/FB15k-237/TransE_entity_100.npy'\n",
    "entity_embeddings = np.load('./Pretraining/FB15k-237/TransE_entity_100.npy')\n",
    "relation_embeddings = np.load('./Pretraining/FB15k-237/TransE_relation_100.npy')\n"
   ]
  },
  {
   "cell_type": "code",
   "execution_count": 3,
   "metadata": {},
   "outputs": [],
   "source": [
    "def related_triples(target, entity_list, relation_list):\n",
    "    list = []\n",
    "    file = open('./Dataset/raw_data/FB15k-237/train.txt')\n",
    "    for line in file:\n",
    "        if line.startswith(target) or line.endswith(target):\n",
    "            line = line.strip('\\n')\n",
    "            triple = line.split('\\t')\n",
    "            head_index = entity_list.index(triple[0])\n",
    "            relation_index = relation_list.index(triple[1])\n",
    "            tail_index = entity_list.index(triple[2])\n",
    "            list.append([head_index, relation_index, tail_index])\n",
    "    return list\n",
    "\n",
    "def convertlist(file):\n",
    "    list = []\n",
    "    with open(file) as f:\n",
    "        for line in f:\n",
    "            list.append(line.split('\\t')[0])\n",
    "    return list"
   ]
  },
  {
   "cell_type": "code",
   "execution_count": 4,
   "metadata": {},
   "outputs": [],
   "source": [
    "entity_list = convertlist('./Dataset/raw_data/FB15k-237/entity2id.txt')\n",
    "relation_list = convertlist('./Dataset/raw_data/FB15k-237/relation2id.txt')"
   ]
  },
  {
   "cell_type": "code",
   "execution_count": 63,
   "metadata": {},
   "outputs": [],
   "source": [
    "target = ['/m/0q9kd', '/m/04nfpk', '/m/03q5t', '/m/02dr9j', '/m/03ts0c']\n"
   ]
  },
  {
   "cell_type": "code",
   "execution_count": 64,
   "metadata": {},
   "outputs": [],
   "source": [
    "def get_fake(target, entity_embeddings = entity_embeddings, \n",
    "             relation_embeddings = relation_embeddings ):\n",
    "    related_list = related_triples(target, entity_list, relation_list)\n",
    "#     target_embedding = entity_embeddings[entity_list.index(target_1)]\n",
    "    fake_head_embeddings = []\n",
    "\n",
    "    for triple in related_list:\n",
    "        relation_index = triple[1]\n",
    "        tail_index = triple[2]\n",
    "        embedding = entity_embeddings[tail_index] - relation_embeddings[relation_index]\n",
    "        fake_head_embeddings.append(embedding)\n",
    "    return fake_head_embeddings"
   ]
  },
  {
   "cell_type": "code",
   "execution_count": 65,
   "metadata": {},
   "outputs": [
    {
     "name": "stdout",
     "output_type": "stream",
     "text": [
      "(252, 100)\n"
     ]
    }
   ],
   "source": [
    "fake = []\n",
    "for t in target:\n",
    "    fake_head_embeddings = get_fake(t)\n",
    "    np.array(fake_head_embeddings)\n",
    "    fake.append(fake_head_embeddings)\n",
    "\n",
    "label_1 = np.zeros(len(fake[0]))\n",
    "label_2 = np.ones(len(fake[1]))\n",
    "label_3 = np.ones(len(fake[2]))*2\n",
    "label_4 = np.ones(len(fake[3]))*3\n",
    "label_5 = np.ones(len(fake[4]))*4\n",
    "\n",
    "\n",
    "\n",
    "label = np.hstack((label_1, label_2, label_3, label_4, label_5))\n",
    "\n",
    "fake = np.vstack((fake[0], fake[1], fake[2], fake[3], fake[4]))\n",
    "print(fake.shape)\n",
    "# fake_head_embeddings = fake_head_embeddings.append(get_fake(target[0]))\n",
    "\n",
    "# fake_head_embeddings = []\n",
    "# for t in target:\n",
    "#     fake_head_embeddings = fake_head_embeddings.append(get_fake(t))\n",
    "# print(len(fake_head_embeddings[2]))"
   ]
  },
  {
   "cell_type": "code",
   "execution_count": 77,
   "metadata": {},
   "outputs": [],
   "source": [
    "# PCA"
   ]
  },
  {
   "cell_type": "code",
   "execution_count": 78,
   "metadata": {},
   "outputs": [],
   "source": [
    "from sklearn.decomposition import PCA\n",
    "pca = PCA(n_components=2)\n",
    "data_pca = pca.fit_transform(fake)"
   ]
  },
  {
   "cell_type": "code",
   "execution_count": null,
   "metadata": {},
   "outputs": [],
   "source": []
  },
  {
   "cell_type": "code",
   "execution_count": 72,
   "metadata": {},
   "outputs": [],
   "source": [
    "import numpy as np \n",
    "from sklearn.manifold import TSNE\n",
    "\n",
    "tsne = TSNE(n_components = 2, random_state=88)\n",
    "Y=tsne.fit_transform(fake)"
   ]
  },
  {
   "cell_type": "code",
   "execution_count": 76,
   "metadata": {},
   "outputs": [
    {
     "ename": "NameError",
     "evalue": "name 'palette' is not defined",
     "output_type": "error",
     "traceback": [
      "\u001b[1;31m---------------------------------------------------------------------------\u001b[0m",
      "\u001b[1;31mNameError\u001b[0m                                 Traceback (most recent call last)",
      "\u001b[1;32m<ipython-input-76-0e69c9a8fc3f>\u001b[0m in \u001b[0;36m<module>\u001b[1;34m\u001b[0m\n\u001b[0;32m      1\u001b[0m \u001b[0mfig\u001b[0m \u001b[1;33m=\u001b[0m \u001b[0mplt\u001b[0m\u001b[1;33m.\u001b[0m\u001b[0mfigure\u001b[0m\u001b[1;33m(\u001b[0m\u001b[0mfigsize\u001b[0m\u001b[1;33m=\u001b[0m\u001b[1;33m(\u001b[0m\u001b[1;36m8\u001b[0m\u001b[1;33m,\u001b[0m \u001b[1;36m4\u001b[0m\u001b[1;33m)\u001b[0m\u001b[1;33m)\u001b[0m\u001b[1;33m\u001b[0m\u001b[1;33m\u001b[0m\u001b[0m\n\u001b[1;32m----> 2\u001b[1;33m plt.scatter(Y[:, 0], Y[:, 1], c=palette[colors.astype(np.int)], edgecolor='none',\n\u001b[0m\u001b[0;32m      3\u001b[0m             alpha=0.7)\n\u001b[0;32m      4\u001b[0m \u001b[1;33m\u001b[0m\u001b[0m\n\u001b[0;32m      5\u001b[0m \u001b[1;31m# fig.savefig('scatter', dpi=800)\u001b[0m\u001b[1;33m\u001b[0m\u001b[1;33m\u001b[0m\u001b[1;33m\u001b[0m\u001b[0m\n",
      "\u001b[1;31mNameError\u001b[0m: name 'palette' is not defined"
     ]
    },
    {
     "data": {
      "text/plain": [
       "<Figure size 576x288 with 0 Axes>"
      ]
     },
     "metadata": {},
     "output_type": "display_data"
    }
   ],
   "source": [
    "fig = plt.figure(figsize=(8, 4))\n",
    "palette = np.array(sns.color_palette(\"hls\", 10))\n",
    "\n",
    "plt.scatter(Y[:, 0], Y[:, 1], c=palette[colors.astype(np.int)], edgecolor='none',\n",
    "            alpha=0.7)\n",
    "\n",
    "# fig.savefig('scatter', dpi=800)"
   ]
  },
  {
   "cell_type": "code",
   "execution_count": 75,
   "metadata": {},
   "outputs": [
    {
     "data": {
      "image/png": "[encoded data removed]",
      "text/plain": [
       "<Figure size 576x288 with 1 Axes>"
      ]
     },
     "metadata": {
      "needs_background": "light"
     },
     "output_type": "display_data"
    }
   ],
   "source": [
    "fig = plt.figure(figsize=(8, 4))\n",
    "plt.scatter(Y[:, 0], Y[:, 1], c=label, edgecolor='none',\n",
    "            alpha=0.7, cmap=plt.cm.get_cmap('Spectral', 5))\n",
    "\n",
    "fig.savefig('scatter', dpi=800)"
   ]
  },
  {
   "cell_type": "code",
   "execution_count": 17,
   "metadata": {},
   "outputs": [
    {
     "data": {
      "text/plain": [
       "array([[-0.71260487, -0.0142702 ],\n",
       "       [-0.91122202,  0.27962039],\n",
       "       [-1.34422967, -0.06653719],\n",
       "       [-0.34122813,  0.32412805],\n",
       "       [ 5.74233302,  3.20329789]])"
      ]
     },
     "execution_count": 17,
     "metadata": {},
     "output_type": "execute_result"
    }
   ],
   "source": [
    "\n",
    "X_dr[0:5]"
   ]
  },
  {
   "cell_type": "code",
   "execution_count": 10,
   "metadata": {},
   "outputs": [
    {
     "data": {
      "text/plain": [
       "array([[ 4.05563445,  3.77764254],\n",
       "       [-2.32282841,  0.27919872],\n",
       "       [-1.40391097, -0.85489351],\n",
       "       [ 5.45233246,  0.33613378],\n",
       "       [-1.37720984, -0.04881697]])"
      ]
     },
     "execution_count": 10,
     "metadata": {},
     "output_type": "execute_result"
    }
   ],
   "source": []
  },
  {
   "cell_type": "code",
   "execution_count": 22,
   "metadata": {},
   "outputs": [
    {
     "data": {
      "image/png": "[encoded data removed]",
      "text/plain": [
       "<Figure size 432x288 with 1 Axes>"
      ]
     },
     "metadata": {
      "needs_background": "light"
     },
     "output_type": "display_data"
    }
   ],
   "source": [
    "plt.figure()\n",
    "\n",
    "plt.scatter(Y[:, 0] ,Y[:, 1],alpha=.7\n",
    "                ,c='red' ,label=target) \n",
    "plt.legend()\n",
    "plt.title('PCA of IRIS dataset') \n",
    "plt.show()"
   ]
  },
  {
   "cell_type": "code",
   "execution_count": null,
   "metadata": {},
   "outputs": [],
   "source": [
    "colors = ['red', 'black', 'orange'] \n",
    "\n",
    "plt.figure()\n",
    "for i in [0, 1, 2]:\n",
    "    plt.scatter(X_dr[y == i, 0] ,X_dr[y == i, 1]\n",
    "                ,alpha=.7\n",
    "                ,c=colors[i] ,label=iris.target_names[i]) \n",
    "plt.legend()\n",
    "plt.title('PCA of IRIS dataset') \n",
    "plt.show()"
   ]
  }
 ],
 "metadata": {
  "kernelspec": {
   "display_name": "Python 3",
   "language": "python",
   "name": "python3"
  },
  "language_info": {
   "codemirror_mode": {
    "name": "ipython",
    "version": 3
   },
   "file_extension": ".py",
   "mimetype": "text/x-python",
   "name": "python",
   "nbconvert_exporter": "python",
   "pygments_lexer": "ipython3",
   "version": "3.8.3"
  }
 },
 "nbformat": 4,
 "nbformat_minor": 4
}
